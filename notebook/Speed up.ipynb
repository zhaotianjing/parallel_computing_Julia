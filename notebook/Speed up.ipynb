{
 "cells": [
  {
   "cell_type": "markdown",
   "metadata": {},
   "source": [
    "# Optimize code"
   ]
  },
  {
   "cell_type": "markdown",
   "metadata": {},
   "source": [
    "\n",
    "## 1. Use matrix instead of for loop.\n"
   ]
  },
  {
   "cell_type": "code",
   "execution_count": 14,
   "metadata": {},
   "outputs": [],
   "source": [
    "using LinearAlgebra"
   ]
  },
  {
   "cell_type": "code",
   "execution_count": 19,
   "metadata": {},
   "outputs": [],
   "source": [
    "# original function with nMarker times for loop\n",
    "function f1()\n",
    "    nMarker = 50_000;\n",
    "    nSample = 10_000;\n",
    "    yCorr   = randn(nSample);\n",
    "    xArray  = [rand(nSample) for i in 1:nMarker];\n",
    "    xpx     = randn(nMarker).^2;\n",
    "    α       = randn(nMarker);\n",
    "    nLoci   = 100;\n",
    "    δ       = ones(nMarker);\n",
    "\n",
    "    for j=1:nMarker\n",
    "        x = xArray[j];\n",
    "        rhs = (dot(x,yCorr) + xpx[j]*α[j])*1.0\n",
    "\n",
    "        lhs = xpx[j]*1.0 + 1.0\n",
    "        invLhs = 1.0/lhs\n",
    "        gHat   = rhs*invLhs\n",
    "        logDelta1  = -0.5*(log(lhs) + 1.0 - gHat*rhs) - 2.3\n",
    "        probDelta1 = 1.0/(1.0 + exp(-0.1 - logDelta1))\n",
    "        oldAlpha   = α[j] \n",
    "\n",
    "        if(rand()<probDelta1)\n",
    "            δ[j] = 1\n",
    "            α[j] = gHat + randn()*sqrt(invLhs)\n",
    "            BLAS.axpy!(oldAlpha-α[j],x,yCorr)\n",
    "            nLoci = nLoci + 1\n",
    "        else\n",
    "            if (oldAlpha!=0)\n",
    "                BLAS.axpy!(oldAlpha,x,yCorr)\n",
    "            end\n",
    "            δ[j] = 0\n",
    "            α[j] = 0\n",
    "        end\n",
    "    end\n",
    "end;"
   ]
  },
  {
   "cell_type": "code",
   "execution_count": 20,
   "metadata": {},
   "outputs": [
    {
     "name": "stdout",
     "output_type": "stream",
     "text": [
      "  6.501496 seconds (2.13 M allocations: 3.806 GiB, 67.26% gc time)\n"
     ]
    }
   ],
   "source": [
    "#running time for f1()\n",
    "@time f1()"
   ]
  },
  {
   "cell_type": "markdown",
   "metadata": {},
   "source": [
    "### 1.1 running time for f1()\n",
    "6.000376 seconds (100.02 k allocations: 3.731 GiB, 70.60% gc time)  \n",
    "6.069780 seconds (100.02 k allocations: 3.731 GiB, 69.76% gc time)  \n",
    "5.855608 seconds (100.02 k allocations: 3.731 GiB, 69.73% gc time)  \n",
    "Note: too much garbage collection time."
   ]
  },
  {
   "cell_type": "code",
   "execution_count": 33,
   "metadata": {},
   "outputs": [
    {
     "data": {
      "text/markdown": [
       "| name        |       size | summary         |\n",
       "|:----------- | ----------:|:--------------- |\n",
       "| Base        |            | Module          |\n",
       "| Core        |            | Module          |\n",
       "| Main        |            | Module          |\n",
       "| f           |    0 bytes | typeof(f)       |\n",
       "| f1          |    0 bytes | typeof(f1)      |\n",
       "| f2          |    0 bytes | typeof(f2)      |\n",
       "| rng         | 18.879 KiB | MersenneTwister |\n",
       "| startupfile |   54 bytes | String          |\n"
      ],
      "text/plain": [
       "name              size summary        \n",
       "––––––––––– –––––––––– –––––––––––––––\n",
       "Base                   Module         \n",
       "Core                   Module         \n",
       "Main                   Module         \n",
       "f              0 bytes typeof(f)      \n",
       "f1             0 bytes typeof(f1)     \n",
       "f2             0 bytes typeof(f2)     \n",
       "rng         18.879 KiB MersenneTwister\n",
       "startupfile   54 bytes String         "
      ]
     },
     "execution_count": 33,
     "metadata": {},
     "output_type": "execute_result"
    }
   ],
   "source": [
    "varinfo() #didn't use memory, because variables in f1() stored in stack."
   ]
  },
  {
   "cell_type": "markdown",
   "metadata": {},
   "source": [
    "### 1.2 Re-write via matrix"
   ]
  },
  {
   "cell_type": "markdown",
   "metadata": {},
   "source": [
    "#### column major convention\n",
    "Julia uses column major convention, which means reading column by column is much faster than row by row.  \n",
    "test code:  \n",
    "```{r}\n",
    "function t1()\n",
    "    x = Array{Float64,2}(undef,10_000,10_000)\n",
    "    for i = 1:size(x,1)\n",
    "        x1 = x[i,:] \n",
    "    end\n",
    "end;\n",
    "\n",
    "@time t1()  #1.37s\n",
    "\n",
    "function t2()\n",
    "    x = Array{Float64,2}(undef,10_000,10_000)\n",
    "    for i = 1:size(x,2)\n",
    "        x1 = x[:,i] \n",
    "    end\n",
    "end;\n",
    "@time t2()  # 0.55s\n",
    "```"
   ]
  },
  {
   "cell_type": "code",
   "execution_count": 15,
   "metadata": {},
   "outputs": [],
   "source": [
    "# function without loop\n",
    "function f2()\n",
    "    nMarker = 50_000;\n",
    "    nSample = 10_000;\n",
    "    yCorr   = randn(nSample, 1); # (10_00, 1)\n",
    "    xArray  = rand(nSample,nMarker); #0.02s  (10_00, 50_00)\n",
    "    xpx     = randn(nMarker,1).^2; #(50_00, 1)\n",
    "    α       = randn(nMarker,1); #(50_00, 1)\n",
    "    nLoci   = 100;\n",
    "    δ       = ones(nMarker,1); #(50_00, 1)\n",
    "    rhs = (yCorr' * xArray)' + xpx.*α;   #(50_00, 1)\n",
    "    lhs = xpx*1.0 .+ 1.0; #(50_00, 1)\n",
    "    invLhs = 1.0 ./ lhs;  #(50_00, 1)\n",
    "    gHat   = rhs.*invLhs; #(50_00, 1)\n",
    "    logDelta1  = -0.5 * (log.(lhs) .+ 1.0 .- gHat.*rhs) .- 2.3; #(50_00, 1)\n",
    "    probDelta1 = 1.0 ./ (1.0 .+ exp.(-0.1 .- logDelta1)); #(50_00, 1)\n",
    "    id = rand(nMarker,1).<probDelta1; #(50_00, 1)\n",
    "    δ = δ .* id; #(50_00, 1)\n",
    "    nLoci = nLoci+sum(id); #(50_00, 1)\n",
    "    α_temp = gHat .+ randn(nMarker,1) .* sqrt.(invLhs); #(50_00, 1)\n",
    "    α_new = α_temp .* id; #(50_00, 1)\n",
    "    diffs = (α - α_new)'; #(1, 50_00)\n",
    "\n",
    "    xArray = xArray .* diffs;#(10_00, 50_00)      <---- double memory\n",
    "\n",
    "    sum_x_new = sum(xArray,dims = 2); #(10_00, 1)\n",
    "    yCorr = yCorr .+ sum_x_new; #(10_00, 1)\n",
    "    return 0\n",
    "end;"
   ]
  },
  {
   "cell_type": "code",
   "execution_count": 17,
   "metadata": {},
   "outputs": [
    {
     "name": "stdout",
     "output_type": "stream",
     "text": [
      "  4.451809 seconds (68 allocations: 7.459 GiB, 18.49% gc time)\n"
     ]
    },
    {
     "data": {
      "text/plain": [
       "0"
      ]
     },
     "execution_count": 17,
     "metadata": {},
     "output_type": "execute_result"
    }
   ],
   "source": [
    "@time f2()"
   ]
  },
  {
   "cell_type": "markdown",
   "metadata": {},
   "source": [
    "### 1.2 running time for f2()\n",
    "\n",
    "4.298493 seconds (68 allocations: 7.459 GiB, 17.86% gc time)  \n",
    "4.476440 seconds (68 allocations: 7.459 GiB, 18.66% gc time)  \n",
    "4.451809 seconds (68 allocations: 7.459 GiB, 18.49% gc time)\n",
    "\n",
    "We can see using matrix manipulation **decrease time, but double the memory**."
   ]
  },
  {
   "cell_type": "code",
   "execution_count": 27,
   "metadata": {},
   "outputs": [
    {
     "data": {
      "text/markdown": [
       "| name        |       size | summary         |\n",
       "|:----------- | ----------:|:--------------- |\n",
       "| Base        |            | Module          |\n",
       "| Core        |            | Module          |\n",
       "| Main        |            | Module          |\n",
       "| f           |    0 bytes | typeof(f)       |\n",
       "| f1          |    0 bytes | typeof(f1)      |\n",
       "| f2          |    0 bytes | typeof(f2)      |\n",
       "| rng         | 18.879 KiB | MersenneTwister |\n",
       "| startupfile |   54 bytes | String          |\n"
      ],
      "text/plain": [
       "name              size summary        \n",
       "––––––––––– –––––––––– –––––––––––––––\n",
       "Base                   Module         \n",
       "Core                   Module         \n",
       "Main                   Module         \n",
       "f              0 bytes typeof(f)      \n",
       "f1             0 bytes typeof(f1)     \n",
       "f2             0 bytes typeof(f2)     \n",
       "rng         18.879 KiB MersenneTwister\n",
       "startupfile   54 bytes String         "
      ]
     },
     "execution_count": 27,
     "metadata": {},
     "output_type": "execute_result"
    }
   ],
   "source": [
    "varinfo()"
   ]
  },
  {
   "cell_type": "markdown",
   "metadata": {},
   "source": [
    "## 2. reduce gc time\n",
    "\n",
    "We see that f1() has almost 70% gc time, which is too much. We need to decrease it."
   ]
  },
  {
   "cell_type": "markdown",
   "metadata": {},
   "source": [
    "### 2.1 running time for creating big matrix"
   ]
  },
  {
   "cell_type": "code",
   "execution_count": 7,
   "metadata": {},
   "outputs": [],
   "source": [
    "function t(nMarker = 50_000, nSample = 10_000)\n",
    "    xArray  = [rand(nSample) for i in 1:nMarker];\n",
    "    return 0\n",
    "end;"
   ]
  },
  {
   "cell_type": "code",
   "execution_count": 12,
   "metadata": {},
   "outputs": [
    {
     "name": "stdout",
     "output_type": "stream",
     "text": [
      "  5.731432 seconds (100.01 k allocations: 3.729 GiB, 74.43% gc time)\n"
     ]
    },
    {
     "data": {
      "text/plain": [
       "0"
      ]
     },
     "execution_count": 12,
     "metadata": {},
     "output_type": "execute_result"
    }
   ],
   "source": [
    "@time t()"
   ]
  },
  {
   "cell_type": "code",
   "execution_count": 38,
   "metadata": {},
   "outputs": [],
   "source": [
    "function t2(nMarker = 50_000, nSample = 10_000)\n",
    "    xArray  = rand(nSample,nMarker);\n",
    "    return 0\n",
    "end;"
   ]
  },
  {
   "cell_type": "code",
   "execution_count": 41,
   "metadata": {},
   "outputs": [
    {
     "name": "stdout",
     "output_type": "stream",
     "text": [
      "  1.768944 seconds (6 allocations: 3.725 GiB, 22.88% gc time)\n"
     ]
    },
    {
     "data": {
      "text/plain": [
       "0"
      ]
     },
     "execution_count": 41,
     "metadata": {},
     "output_type": "execute_result"
    }
   ],
   "source": [
    "@time t2()"
   ]
  },
  {
   "cell_type": "markdown",
   "metadata": {},
   "source": [
    "time:  \n",
    "5.731432 seconds (100.01 k allocations: 3.729 GiB, 74.43% gc time)  \n",
    "5.728274 seconds (100.01 k allocations: 3.729 GiB, 74.90% gc time)  \n",
    "5.832911 seconds (169.40 k allocations: 3.733 GiB, 74.21% gc time)  \n",
    "Create big matrix is very time consuming."
   ]
  },
  {
   "cell_type": "code",
   "execution_count": 13,
   "metadata": {},
   "outputs": [
    {
     "data": {
      "text/markdown": [
       "| name        |     size | summary   |\n",
       "|:----------- | --------:|:--------- |\n",
       "| Base        |          | Module    |\n",
       "| Core        |          | Module    |\n",
       "| Main        |          | Module    |\n",
       "| startupfile | 54 bytes | String    |\n",
       "| t           |  0 bytes | typeof(t) |\n"
      ],
      "text/plain": [
       "name            size summary  \n",
       "––––––––––– –––––––– –––––––––\n",
       "Base                 Module   \n",
       "Core                 Module   \n",
       "Main                 Module   \n",
       "startupfile 54 bytes String   \n",
       "t            0 bytes typeof(t)"
      ]
     },
     "execution_count": 13,
     "metadata": {},
     "output_type": "execute_result"
    }
   ],
   "source": [
    "varinfo()"
   ]
  },
  {
   "cell_type": "markdown",
   "metadata": {},
   "source": [
    "### 2.2 Avoid create big matrix"
   ]
  },
  {
   "cell_type": "code",
   "execution_count": 18,
   "metadata": {},
   "outputs": [],
   "source": [
    "function f3()\n",
    "    nMarker = 50_000\n",
    "    nSample = 10_000\n",
    "    #xArray  = [rand(nSample) for i in 1:nMarker];   <--- avoid create big matrix\n",
    "    yCorr   = randn(nSample);\n",
    "    xpx     = randn(nMarker).^2;\n",
    "    α       = randn(nMarker);\n",
    "    nLoci   = 100\n",
    "    δ       = ones(nMarker)\n",
    "#for i= 1:50_000\n",
    "    for j=1:nMarker\n",
    "        x = rand(nSample)                        # <--- create small piece\n",
    "        rhs = (dot(x,yCorr) + xpx[j]*α[j])*1.0\n",
    "\n",
    "        lhs = xpx[j]*1.0 + 1.0\n",
    "        invLhs = 1.0/lhs\n",
    "        gHat   = rhs*invLhs\n",
    "        logDelta1  = -0.5*(log(lhs) + 1.0 - gHat*rhs) - 2.3\n",
    "        probDelta1 = 1.0/(1.0 + exp(-0.1 - logDelta1))\n",
    "        oldAlpha   = α[j]\n",
    "\n",
    "        if(rand()<probDelta1)\n",
    "            δ[j] = 1\n",
    "            α[j] = gHat + randn()*sqrt(invLhs)\n",
    "            BLAS.axpy!(oldAlpha-α[j],x,yCorr)\n",
    "            nLoci = nLoci + 1\n",
    "        else\n",
    "            if (oldAlpha!=0)\n",
    "                BLAS.axpy!(oldAlpha,x,yCorr)\n",
    "            end\n",
    "            δ[j] = 0\n",
    "            α[j] = 0\n",
    "        end\n",
    "    end\n",
    "end;"
   ]
  },
  {
   "cell_type": "markdown",
   "metadata": {},
   "source": [
    "### 2.3 running time for f3()"
   ]
  },
  {
   "cell_type": "code",
   "execution_count": 22,
   "metadata": {},
   "outputs": [
    {
     "name": "stdout",
     "output_type": "stream",
     "text": [
      "  1.146152 seconds (100.02 k allocations: 3.731 GiB, 18.52% gc time)\n"
     ]
    }
   ],
   "source": [
    "@time f3()"
   ]
  },
  {
   "cell_type": "markdown",
   "metadata": {},
   "source": [
    "1.158405 seconds (100.02 k allocations: 3.731 GiB, 18.31% gc time)  \n",
    "1.159397 seconds (100.02 k allocations: 3.731 GiB, 18.25% gc time)  \n",
    "1.146152 seconds (100.02 k allocations: 3.731 GiB, 18.52% gc time)"
   ]
  },
  {
   "cell_type": "markdown",
   "metadata": {},
   "source": [
    "We can see the time decreases dramatically. So we continue our optimization based on f3(). "
   ]
  },
  {
   "cell_type": "markdown",
   "metadata": {},
   "source": [
    "## 3. Parallel\n",
    "based on f3()."
   ]
  },
  {
   "cell_type": "markdown",
   "metadata": {},
   "source": [
    "### 3.1 optimize dot product"
   ]
  },
  {
   "cell_type": "markdown",
   "metadata": {},
   "source": [
    "#### 3.1.1 running time for dot product"
   ]
  },
  {
   "cell_type": "code",
   "execution_count": 15,
   "metadata": {},
   "outputs": [],
   "source": [
    "using LinearAlgebra\n",
    "function t()\n",
    "    nSample = 10_000;\n",
    "    yCorr   = randn(nSample);\n",
    "    x = rand(nSample); \n",
    "    \n",
    "    @time rhs = dot(x,yCorr);\n",
    "\n",
    "end;"
   ]
  },
  {
   "cell_type": "code",
   "execution_count": 22,
   "metadata": {},
   "outputs": [
    {
     "name": "stdout",
     "output_type": "stream",
     "text": [
      "  0.000004 seconds\n"
     ]
    }
   ],
   "source": [
    "t();"
   ]
  },
  {
   "cell_type": "code",
   "execution_count": 29,
   "metadata": {},
   "outputs": [],
   "source": [
    "# another test\n",
    "using LinearAlgebra\n",
    "v1 = randn(10_000_000);\n",
    "v2 = randn(10_000_000);"
   ]
  },
  {
   "cell_type": "code",
   "execution_count": 32,
   "metadata": {},
   "outputs": [
    {
     "name": "stdout",
     "output_type": "stream",
     "text": [
      "  0.006143 seconds (5 allocations: 176 bytes)\n"
     ]
    }
   ],
   "source": [
    "@time dot(v1,v2);"
   ]
  },
  {
   "cell_type": "markdown",
   "metadata": {},
   "source": [
    "We can see the running time is very small, do we really need to speed up?  \n",
    "So I also test parallel vector multiplication."
   ]
  },
  {
   "cell_type": "markdown",
   "metadata": {},
   "source": [
    "#### 3.1.2 shared array"
   ]
  },
  {
   "cell_type": "code",
   "execution_count": 1,
   "metadata": {},
   "outputs": [],
   "source": [
    "using Distributed\n",
    "using SharedArrays"
   ]
  },
  {
   "cell_type": "code",
   "execution_count": 2,
   "metadata": {},
   "outputs": [
    {
     "data": {
      "text/plain": [
       "4-element Array{Int64,1}:\n",
       " 2\n",
       " 3\n",
       " 4\n",
       " 5"
      ]
     },
     "execution_count": 2,
     "metadata": {},
     "output_type": "execute_result"
    }
   ],
   "source": [
    "addprocs(4)"
   ]
  },
  {
   "cell_type": "code",
   "execution_count": 3,
   "metadata": {},
   "outputs": [
    {
     "data": {
      "text/plain": [
       "5"
      ]
     },
     "execution_count": 3,
     "metadata": {},
     "output_type": "execute_result"
    }
   ],
   "source": [
    "nprocs()"
   ]
  },
  {
   "cell_type": "code",
   "execution_count": 4,
   "metadata": {},
   "outputs": [],
   "source": [
    "function t2()\n",
    "    nSample = 10_000;\n",
    "    yCorr   = randn(nSample);\n",
    "    x = rand(nSample);\n",
    "\n",
    "    x_s= convert(SharedArray,x);\n",
    "    y_s = convert(SharedArray,yCorr);\n",
    "\n",
    "    @time @distributed (+) for i in 1:nSample\n",
    "          x_s[i]*y_s[i]\n",
    "    end\n",
    "end;"
   ]
  },
  {
   "cell_type": "code",
   "execution_count": 16,
   "metadata": {},
   "outputs": [
    {
     "name": "stdout",
     "output_type": "stream",
     "text": [
      "  0.000607 seconds (609 allocations: 55.094 KiB)\n"
     ]
    },
    {
     "data": {
      "text/plain": [
       "-61.56809346014772"
      ]
     },
     "execution_count": 16,
     "metadata": {},
     "output_type": "execute_result"
    }
   ],
   "source": [
    "t2()"
   ]
  },
  {
   "cell_type": "markdown",
   "metadata": {},
   "source": [
    "From above, if we use split every element for parallel, the time increases. We don't need parallel here."
   ]
  },
  {
   "cell_type": "markdown",
   "metadata": {},
   "source": [
    "### 3.2 optimize `BLAS.axpy!(oldAlpha-α[j],x,yCorr)`"
   ]
  },
  {
   "cell_type": "markdown",
   "metadata": {},
   "source": [
    "#### 3.2.1 running time"
   ]
  },
  {
   "cell_type": "code",
   "execution_count": 33,
   "metadata": {},
   "outputs": [],
   "source": [
    "function f5()\n",
    "    nMarker = 50_000\n",
    "    nSample = 10_000\n",
    "    yCorr   = randn(nSample);\n",
    "    xpx     = randn(nMarker).^2;\n",
    "    α       = randn(nMarker);\n",
    "    nLoci   = 100\n",
    "    δ       = ones(nMarker)\n",
    "\n",
    "    for j=1:10\n",
    "        x = rand(nSample) \n",
    "        rhs = (dot(x,yCorr) + xpx[j]*α[j])*1.0\n",
    "\n",
    "        lhs = xpx[j]*1.0 + 1.0\n",
    "        invLhs = 1.0/lhs\n",
    "        gHat   = rhs*invLhs\n",
    "        logDelta1  = -0.5*(log(lhs) + 1.0 - gHat*rhs) - 2.3\n",
    "        probDelta1 = 1.0/(1.0 + exp(-0.1 - logDelta1))\n",
    "        oldAlpha   = α[j]\n",
    "\n",
    "        if(rand()<probDelta1)\n",
    "            δ[j] = 1\n",
    "            α[j] = gHat + randn()*sqrt(invLhs)\n",
    "            @time BLAS.axpy!(oldAlpha-α[j],x,yCorr)\n",
    "            nLoci = nLoci + 1\n",
    "        else\n",
    "            if (oldAlpha!=0)\n",
    "                BLAS.axpy!(oldAlpha,x,yCorr)\n",
    "            end\n",
    "            δ[j] = 0\n",
    "            α[j] = 0\n",
    "        end\n",
    "    end\n",
    "end;"
   ]
  },
  {
   "cell_type": "code",
   "execution_count": 35,
   "metadata": {},
   "outputs": [
    {
     "name": "stdout",
     "output_type": "stream",
     "text": [
      "  0.000004 seconds\n",
      "  0.000003 seconds\n",
      "  0.000002 seconds\n",
      "  0.000008 seconds\n",
      "  0.000005 seconds\n",
      "  0.000004 seconds\n",
      "  0.000004 seconds\n",
      "  0.000004 seconds\n",
      "  0.000004 seconds\n",
      "  0.000004 seconds\n"
     ]
    }
   ],
   "source": [
    "f5()"
   ]
  },
  {
   "cell_type": "markdown",
   "metadata": {},
   "source": [
    "There is no need to speed up."
   ]
  },
  {
   "cell_type": "markdown",
   "metadata": {},
   "source": [
    "### Multiple-threads"
   ]
  },
  {
   "cell_type": "markdown",
   "metadata": {},
   "source": [
    "`export JULIA_NUM_THREADS=10`  "
   ]
  },
  {
   "cell_type": "markdown",
   "metadata": {},
   "source": [
    "`Threads.nthreads()`"
   ]
  },
  {
   "cell_type": "code",
   "execution_count": null,
   "metadata": {},
   "outputs": [],
   "source": [
    "using LinearAlgebra\n",
    "\n",
    "function f3()\n",
    "    nMarker = 50_000\n",
    "    nSample = 10_000\n",
    "    yCorr   = randn(nSample);\n",
    "    xpx     = randn(nMarker).^2;\n",
    "    α       = randn(nMarker);\n",
    "    nLoci   = 100\n",
    "    δ       = ones(nMarker)\n",
    "\n",
    "    Threads.@threads for j=1:nMarker\n",
    "        x = rand(nSample) \n",
    "        rhs = (dot(x,yCorr) + xpx[j]*α[j])*1.0\n",
    "\n",
    "        lhs = xpx[j]*1.0 + 1.0\n",
    "        invLhs = 1.0/lhs\n",
    "        gHat   = rhs*invLhs\n",
    "        logDelta1  = -0.5*(log(lhs) + 1.0 - gHat*rhs) - 2.3\n",
    "        probDelta1 = 1.0/(1.0 + exp(-0.1 - logDelta1))\n",
    "        oldAlpha   = α[j]\n",
    "\n",
    "        if(rand()<probDelta1)\n",
    "            δ[j] = 1\n",
    "            α[j] = gHat + randn()*sqrt(invLhs)\n",
    "            BLAS.axpy!(oldAlpha-α[j],x,yCorr)\n",
    "            nLoci = nLoci + 1\n",
    "        else\n",
    "            if (oldAlpha!=0)\n",
    "                BLAS.axpy!(oldAlpha,x,yCorr)\n",
    "            end\n",
    "            δ[j] = 0\n",
    "            α[j] = 0\n",
    "        end\n",
    "    end\n",
    "end;"
   ]
  },
  {
   "cell_type": "markdown",
   "metadata": {},
   "source": [
    "`@time f3()`"
   ]
  },
  {
   "cell_type": "markdown",
   "metadata": {},
   "source": [
    "Running time 10 threads:  \n",
    "0.706303 seconds (97.59 k allocations: 3.643 GiB)  \n",
    "0.991138 seconds (97.83 k allocations: 3.655 GiB, 10.72% gc time)  \n",
    "0.929544 seconds (97.13 k allocations: 3.652 GiB, 8.05% gc time)  \n",
    "Unstable time, but time did decreased."
   ]
  },
  {
   "cell_type": "markdown",
   "metadata": {},
   "source": [
    "Running time 20 threads:\n",
    "3.457470 seconds (97.19 k allocations: 3.651 GiB, 40.40% gc time)  \n",
    "2.483308 seconds (97.55 k allocations: 3.667 GiB, 46.88% gc time)  \n",
    "1.734155 seconds (97.66 k allocations: 3.674 GiB, 14.09% gc time)  \n",
    "Unstable time"
   ]
  },
  {
   "cell_type": "markdown",
   "metadata": {},
   "source": [
    "If I use 40 threads, the time is unstable too, often around 4s."
   ]
  },
  {
   "cell_type": "code",
   "execution_count": null,
   "metadata": {},
   "outputs": [],
   "source": []
  }
 ],
 "metadata": {
  "kernelspec": {
   "display_name": "Julia 1.0.1",
   "language": "julia",
   "name": "julia-1.0"
  },
  "language_info": {
   "file_extension": ".jl",
   "mimetype": "application/julia",
   "name": "julia",
   "version": "1.0.1"
  }
 },
 "nbformat": 4,
 "nbformat_minor": 2
}
