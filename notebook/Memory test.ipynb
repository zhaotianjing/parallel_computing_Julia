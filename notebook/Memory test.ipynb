{
 "cells": [
  {
   "cell_type": "markdown",
   "metadata": {},
   "source": [
    "## Memory test in Julia"
   ]
  },
  {
   "cell_type": "code",
   "execution_count": 3,
   "metadata": {},
   "outputs": [],
   "source": [
    "# vector of vector\n",
    "function t1(nMarker = 5000, nSample = 1000)\n",
    "    xArray  = [rand(nSample) for i in 1:nMarker];\n",
    "    return\n",
    "end;"
   ]
  },
  {
   "cell_type": "code",
   "execution_count": 8,
   "metadata": {},
   "outputs": [
    {
     "name": "stdout",
     "output_type": "stream",
     "text": [
      "  0.033364 seconds (5.01 k allocations: 38.796 MiB, 42.75% gc time)\n"
     ]
    }
   ],
   "source": [
    "@time t1()     #38.8 MiB"
   ]
  },
  {
   "cell_type": "code",
   "execution_count": 10,
   "metadata": {},
   "outputs": [],
   "source": [
    "# for loop: vector of vector\n",
    "function t2(nMarker = 5000, nSample = 1000)\n",
    "    for _ in 1:10\n",
    "        xArray  = [rand(nSample) for i in 1:nMarker];\n",
    "    end\n",
    "    return\n",
    "end;"
   ]
  },
  {
   "cell_type": "code",
   "execution_count": 12,
   "metadata": {},
   "outputs": [
    {
     "name": "stdout",
     "output_type": "stream",
     "text": [
      "  0.411428 seconds (50.02 k allocations: 387.956 MiB, 63.57% gc time)\n"
     ]
    }
   ],
   "source": [
    "@time t2()  #388 Mib"
   ]
  },
  {
   "cell_type": "code",
   "execution_count": 14,
   "metadata": {},
   "outputs": [],
   "source": [
    "# for loop: vector of vector + gc\n",
    "function t3(nMarker = 5000, nSample = 1000)\n",
    "    for _ in 1:10\n",
    "        xArray  = [rand(nSample) for i in 1:nMarker];\n",
    "        GC.gc()   # <-----garbage collection\n",
    "    end\n",
    "    return\n",
    "end;"
   ]
  },
  {
   "cell_type": "code",
   "execution_count": 16,
   "metadata": {},
   "outputs": [
    {
     "name": "stdout",
     "output_type": "stream",
     "text": [
      "  1.038577 seconds (50.02 k allocations: 387.956 MiB, 83.98% gc time)\n"
     ]
    }
   ],
   "source": [
    "@time t3()  # 388 Mib"
   ]
  },
  {
   "cell_type": "code",
   "execution_count": 21,
   "metadata": {},
   "outputs": [],
   "source": [
    "# for loop: vector of vector + set zero\n",
    "function t4(nMarker = 5000, nSample = 1000)\n",
    "    for _ in 1:10\n",
    "        xArray  = [rand(nSample) for i in 1:nMarker];\n",
    "        xArray  = 0   # <----- set to zero\n",
    "    end\n",
    "    return\n",
    "end;"
   ]
  },
  {
   "cell_type": "code",
   "execution_count": 23,
   "metadata": {},
   "outputs": [
    {
     "name": "stdout",
     "output_type": "stream",
     "text": [
      "  0.398080 seconds (50.02 k allocations: 387.956 MiB, 63.75% gc time)\n"
     ]
    }
   ],
   "source": [
    "@time t4()  # 388 Mib"
   ]
  },
  {
   "cell_type": "code",
   "execution_count": 24,
   "metadata": {},
   "outputs": [],
   "source": [
    "# for loop: make vector of vector in function\n",
    "function make_vv(nSample, nMarker)\n",
    "    return [rand(nSample) for i in 1:nMarker]\n",
    "end;"
   ]
  },
  {
   "cell_type": "code",
   "execution_count": 26,
   "metadata": {},
   "outputs": [],
   "source": [
    "function t5(nSample = 1000, nMarker = 5000)\n",
    "    for _ in 1:10\n",
    "        xArray  = make_vv(nSample, nMarker);\n",
    "    end\n",
    "    return\n",
    "end;"
   ]
  },
  {
   "cell_type": "code",
   "execution_count": 28,
   "metadata": {},
   "outputs": [
    {
     "name": "stdout",
     "output_type": "stream",
     "text": [
      "  0.356209 seconds (50.02 k allocations: 387.956 MiB, 60.06% gc time)\n"
     ]
    }
   ],
   "source": [
    "@time t5() # 388 Mib"
   ]
  },
  {
   "cell_type": "code",
   "execution_count": 29,
   "metadata": {},
   "outputs": [],
   "source": [
    "# nested for loop\n",
    "function t6(nMarker = 5000, nSample = 1000)\n",
    "    for _ in 1:5\n",
    "        for _ in 1:2\n",
    "            xArray  = [rand(nSample) for i in 1:nMarker];\n",
    "        end\n",
    "    end\n",
    "    return\n",
    "end;"
   ]
  },
  {
   "cell_type": "code",
   "execution_count": 31,
   "metadata": {},
   "outputs": [
    {
     "name": "stdout",
     "output_type": "stream",
     "text": [
      "  0.346546 seconds (50.02 k allocations: 387.956 MiB, 59.77% gc time)\n"
     ]
    }
   ],
   "source": [
    "@time t6() # 388 Mib"
   ]
  },
  {
   "cell_type": "code",
   "execution_count": 32,
   "metadata": {},
   "outputs": [],
   "source": [
    "# nested for loop + gc\n",
    "function t7(nMarker = 5000, nSample = 1000)\n",
    "    for _ in 1:5\n",
    "        for _ in 1:2\n",
    "            xArray  = [rand(nSample) for i in 1:nMarker];\n",
    "            GC.gc()   # <------\n",
    "        end\n",
    "    end\n",
    "    return\n",
    "end;"
   ]
  },
  {
   "cell_type": "code",
   "execution_count": 34,
   "metadata": {},
   "outputs": [
    {
     "name": "stdout",
     "output_type": "stream",
     "text": [
      "  1.018892 seconds (50.02 k allocations: 387.956 MiB, 83.44% gc time)\n"
     ]
    }
   ],
   "source": [
    "@time t7() # 388 Mib"
   ]
  },
  {
   "cell_type": "code",
   "execution_count": 35,
   "metadata": {},
   "outputs": [],
   "source": [
    "# nested for loop + gc\n",
    "function t8(nMarker = 5000, nSample = 1000)\n",
    "    for _ in 1:5\n",
    "        for _ in 1:2\n",
    "            xArray  = [rand(nSample) for i in 1:nMarker]; \n",
    "        end\n",
    "        GC.gc()      # <------\n",
    "    end\n",
    "    return\n",
    "end;"
   ]
  },
  {
   "cell_type": "code",
   "execution_count": 37,
   "metadata": {},
   "outputs": [
    {
     "name": "stdout",
     "output_type": "stream",
     "text": [
      "  0.816627 seconds (50.02 k allocations: 387.956 MiB, 80.84% gc time)\n"
     ]
    }
   ],
   "source": [
    "@time t8() # 388 Mib"
   ]
  }
 ],
 "metadata": {
  "kernelspec": {
   "display_name": "Julia 1.0.1",
   "language": "julia",
   "name": "julia-1.0"
  },
  "language_info": {
   "file_extension": ".jl",
   "mimetype": "application/julia",
   "name": "julia",
   "version": "1.0.1"
  }
 },
 "nbformat": 4,
 "nbformat_minor": 2
}
